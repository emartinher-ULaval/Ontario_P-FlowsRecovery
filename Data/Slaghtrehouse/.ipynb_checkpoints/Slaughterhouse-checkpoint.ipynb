{
 "cells": [
  {
   "cell_type": "code",
   "execution_count": 1,
   "id": "672e3692-020c-4e36-b60b-c104745e90ae",
   "metadata": {},
   "outputs": [],
   "source": [
    "import pandas as pd\n",
    "import geopandas\n",
    "import numpy as np\n",
    "import matplotlib\n",
    "import matplotlib.pyplot as plt\n",
    "import matplotlib.gridspec as gridspec\n",
    "from matplotlib.ticker import (MultipleLocator, FormatStrFormatter,\n",
    "                               AutoMinorLocator)\n",
    "import random\n",
    "from scipy import stats\n",
    "from scipy import integrate\n",
    "import glob\n",
    "import seaborn as sns\n",
    "# %matplotlib notebook\n",
    "%matplotlib inline\n",
    "from geopy.geocoders import Nominatim\n",
    "from geopy.extra.rate_limiter import RateLimiter\n",
    "\n",
    "from fitter import Fitter, get_common_distributions, get_distributions\n",
    "\n",
    "pd.set_option('display.max_rows', 500)\n",
    "pd.set_option('display.max_columns', 500)\n",
    "pd.set_option('display.width', 1000)"
   ]
  },
  {
   "cell_type": "code",
   "execution_count": 18,
   "id": "9e35c80f-3809-431d-b593-c347c92204e7",
   "metadata": {},
   "outputs": [
    {
     "data": {
      "text/html": [
       "<div>\n",
       "<style scoped>\n",
       "    .dataframe tbody tr th:only-of-type {\n",
       "        vertical-align: middle;\n",
       "    }\n",
       "\n",
       "    .dataframe tbody tr th {\n",
       "        vertical-align: top;\n",
       "    }\n",
       "\n",
       "    .dataframe thead th {\n",
       "        text-align: right;\n",
       "    }\n",
       "</style>\n",
       "<table border=\"1\" class=\"dataframe\">\n",
       "  <thead>\n",
       "    <tr style=\"text-align: right;\">\n",
       "      <th></th>\n",
       "      <th>Heads</th>\n",
       "      <th>Wastewater (L/animal)</th>\n",
       "      <th>Wastewater (L/year)</th>\n",
       "      <th>P wastewater (kg/year)</th>\n",
       "    </tr>\n",
       "  </thead>\n",
       "  <tbody>\n",
       "    <tr>\n",
       "      <th>Cattle</th>\n",
       "      <td>727927.0</td>\n",
       "      <td>1250.0</td>\n",
       "      <td>9.099088e+08</td>\n",
       "      <td>43675.62000</td>\n",
       "    </tr>\n",
       "    <tr>\n",
       "      <th>Swine</th>\n",
       "      <td>4379193.0</td>\n",
       "      <td>400.0</td>\n",
       "      <td>1.751677e+09</td>\n",
       "      <td>84080.50560</td>\n",
       "    </tr>\n",
       "    <tr>\n",
       "      <th>Sheep</th>\n",
       "      <td>351667.0</td>\n",
       "      <td>120.0</td>\n",
       "      <td>4.220004e+07</td>\n",
       "      <td>2025.60192</td>\n",
       "    </tr>\n",
       "    <tr>\n",
       "      <th>Rabbit</th>\n",
       "      <td>225377.0</td>\n",
       "      <td>0.0</td>\n",
       "      <td>0.000000e+00</td>\n",
       "      <td>0.00000</td>\n",
       "    </tr>\n",
       "    <tr>\n",
       "      <th>Poultry</th>\n",
       "      <td>238979246.0</td>\n",
       "      <td>35.0</td>\n",
       "      <td>8.364274e+09</td>\n",
       "      <td>401485.13328</td>\n",
       "    </tr>\n",
       "    <tr>\n",
       "      <th>Total</th>\n",
       "      <td>244663410.0</td>\n",
       "      <td>1805.0</td>\n",
       "      <td>1.106806e+10</td>\n",
       "      <td>531266.86080</td>\n",
       "    </tr>\n",
       "  </tbody>\n",
       "</table>\n",
       "</div>"
      ],
      "text/plain": [
       "               Heads  Wastewater (L/animal)  Wastewater (L/year)  P wastewater (kg/year)\n",
       "Cattle      727927.0                 1250.0         9.099088e+08             43675.62000\n",
       "Swine      4379193.0                  400.0         1.751677e+09             84080.50560\n",
       "Sheep       351667.0                  120.0         4.220004e+07              2025.60192\n",
       "Rabbit      225377.0                    0.0         0.000000e+00                 0.00000\n",
       "Poultry  238979246.0                   35.0         8.364274e+09            401485.13328\n",
       "Total    244663410.0                 1805.0         1.106806e+10            531266.86080"
      ]
     },
     "execution_count": 18,
     "metadata": {},
     "output_type": "execute_result"
    }
   ],
   "source": [
    "Wastewater_SlaughterAnimals_conc = 48E-6 #kg/L\n",
    "\n",
    "SlaughterAnimals = {'Cattle':[628366+99561],\n",
    "                   'Swine':[4010926+368267],\n",
    "                   'Sheep':[84721+266946],\n",
    "                   'Rabbit':[225377],\n",
    "                   'Poultry':[238979246],}\n",
    "\n",
    "Number_SlaughterAnimals_df = pd.DataFrame.from_dict(data=SlaughterAnimals, orient='index', columns=['Heads'])\n",
    "\n",
    "Wastewater_SlaughterAnimals = {'Cattle':[1250],\n",
    "                   'Swine':[400],\n",
    "                   'Sheep':[120],\n",
    "                   'Rabbit':[0],\n",
    "                   'Poultry':[35],}\n",
    "\n",
    "Wastewater_SlaughterAnimals_df = pd.DataFrame.from_dict(data=Wastewater_SlaughterAnimals, orient='index', columns=['Wastewater (L/animal)'])\n",
    "\n",
    "\n",
    "SlaughterAnimals_df = pd.concat([Number_SlaughterAnimals_df,Wastewater_SlaughterAnimals_df],axis=1)\n",
    "SlaughterAnimals_df['Wastewater (L/year)'] = SlaughterAnimals_df['Wastewater (L/animal)']*SlaughterAnimals_df['Heads']\n",
    "SlaughterAnimals_df['P wastewater (kg/year)'] = SlaughterAnimals_df['Wastewater (L/year)']*Wastewater_SlaughterAnimals_conc\n",
    "SlaughterAnimals_df.loc['Total'] = SlaughterAnimals_df.sum(axis=0)\n",
    "SlaughterAnimals_df"
   ]
  },
  {
   "cell_type": "code",
   "execution_count": 19,
   "id": "c112bed5-fd65-496d-8b3d-69c90d6179d1",
   "metadata": {},
   "outputs": [
    {
     "data": {
      "text/plain": [
       "{'Fraction_P_Wastewater_SlaughterAnimals': 0.1402129482185273,\n",
       " 'Fraction_P_Solid_SlaughterAnimals': 0.8597870517814727}"
      ]
     },
     "execution_count": 19,
     "metadata": {},
     "output_type": "execute_result"
    }
   ],
   "source": [
    "TotalP_SlaughterAnimals =(2222+621+42+904)*1000 #kg, except rabbits, not included due to lack of data\n",
    "\n",
    "Fraction_P_Wastewater_SlaughterAnimals = SlaughterAnimals_df.loc['Total']['P wastewater (kg/year)']/TotalP_SlaughterAnimals\n",
    "Fraction_P_Solid_SlaughterAnimals = 1-Fraction_P_Wastewater_SlaughterAnimals\n",
    "\n",
    "P_SlaughterAnimals_dict = {'Fraction_P_Wastewater_SlaughterAnimals':Fraction_P_Wastewater_SlaughterAnimals,\n",
    "                          'Fraction_P_Solid_SlaughterAnimals':Fraction_P_Solid_SlaughterAnimals}\n",
    "\n",
    "P_SlaughterAnimals_dict"
   ]
  }
 ],
 "metadata": {
  "kernelspec": {
   "display_name": "Python 3 (ipykernel)",
   "language": "python",
   "name": "python3"
  },
  "language_info": {
   "codemirror_mode": {
    "name": "ipython",
    "version": 3
   },
   "file_extension": ".py",
   "mimetype": "text/x-python",
   "name": "python",
   "nbconvert_exporter": "python",
   "pygments_lexer": "ipython3",
   "version": "3.9.7"
  }
 },
 "nbformat": 4,
 "nbformat_minor": 5
}
